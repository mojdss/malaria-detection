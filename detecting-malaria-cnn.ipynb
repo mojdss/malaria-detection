{
 "cells": [
  {
   "cell_type": "code",
   "execution_count": null,
   "metadata": {
    "_cell_guid": "b1076dfc-b9ad-4769-8c92-a6c4dae69d19",
    "_uuid": "8f2839f25d086af736a60e9eeb907d3b93b6e0e5",
    "execution": {
     "iopub.execute_input": "2024-09-22T09:02:49.384946Z",
     "iopub.status.busy": "2024-09-22T09:02:49.384636Z",
     "iopub.status.idle": "2024-09-22T09:02:49.3914Z",
     "shell.execute_reply": "2024-09-22T09:02:49.390646Z",
     "shell.execute_reply.started": "2024-09-22T09:02:49.384904Z"
    },
    "trusted": true
   },
   "outputs": [],
   "source": [
    "import numpy as np # linear algebra\n",
    "import pandas as pd # data processing, CSV file I/O (e.g. pd.read_csv)\n",
    "import tensorflow as tf\n",
    "import cv2\n",
    "import matplotlib.pyplot as plt\n",
    "import seaborn as sns\n",
    "from PIL import Image\n",
    "import os\n",
    "print(os.listdir(\"../input/cell_images/cell_images\"))"
   ]
  },
  {
   "cell_type": "code",
   "execution_count": null,
   "metadata": {
    "_cell_guid": "79c7e3d0-c299-4dcb-8224-4455121ee9b0",
    "_uuid": "d629ff2d2480ee46fbb7e2d37f6b5fab8052498a",
    "execution": {
     "iopub.execute_input": "2024-09-22T09:02:52.93045Z",
     "iopub.status.busy": "2024-09-22T09:02:52.930171Z",
     "iopub.status.idle": "2024-09-22T09:02:52.949446Z",
     "shell.execute_reply": "2024-09-22T09:02:52.948885Z",
     "shell.execute_reply.started": "2024-09-22T09:02:52.930409Z"
    },
    "trusted": true
   },
   "outputs": [],
   "source": [
    "infected = os.listdir('../input/cell_images/cell_images/Parasitized/') \n",
    "uninfected = os.listdir('../input/cell_images/cell_images/Uninfected/')"
   ]
  },
  {
   "cell_type": "code",
   "execution_count": null,
   "metadata": {
    "_uuid": "6c62996edd0483c29a8e5a8b8ec5b772bb5a0f11",
    "execution": {
     "iopub.execute_input": "2024-09-22T09:02:55.684975Z",
     "iopub.status.busy": "2024-09-22T09:02:55.684657Z",
     "iopub.status.idle": "2024-09-22T09:06:11.121417Z",
     "shell.execute_reply": "2024-09-22T09:06:11.120773Z",
     "shell.execute_reply.started": "2024-09-22T09:02:55.684932Z"
    },
    "trusted": true
   },
   "outputs": [],
   "source": [
    "data = []\n",
    "labels = []\n",
    "\n",
    "for i in infected:\n",
    "    try:\n",
    "    \n",
    "        image = cv2.imread(\"../input/cell_images/cell_images/Parasitized/\"+i)\n",
    "        image_array = Image.fromarray(image , 'RGB')\n",
    "        resize_img = image_array.resize((50 , 50))\n",
    "        rotated45 = resize_img.rotate(45)\n",
    "        rotated75 = resize_img.rotate(75)\n",
    "        blur = cv2.blur(np.array(resize_img) ,(10,10))\n",
    "        data.append(np.array(resize_img))\n",
    "        data.append(np.array(rotated45))\n",
    "        data.append(np.array(rotated75))\n",
    "        data.append(np.array(blur))\n",
    "        labels.append(1)\n",
    "        labels.append(1)\n",
    "        labels.append(1)\n",
    "        labels.append(1)\n",
    "        \n",
    "    except AttributeError:\n",
    "        print('')\n",
    "    \n",
    "for u in uninfected:\n",
    "    try:\n",
    "        \n",
    "        image = cv2.imread(\"../input/cell_images/cell_images/Uninfected/\"+u)\n",
    "        image_array = Image.fromarray(image , 'RGB')\n",
    "        resize_img = image_array.resize((50 , 50))\n",
    "        rotated45 = resize_img.rotate(45)\n",
    "        rotated75 = resize_img.rotate(75)\n",
    "        data.append(np.array(resize_img))\n",
    "        data.append(np.array(rotated45))\n",
    "        data.append(np.array(rotated75))\n",
    "        labels.append(0)\n",
    "        labels.append(0)\n",
    "        labels.append(0)\n",
    "        \n",
    "    except AttributeError:\n",
    "        print('')"
   ]
  },
  {
   "cell_type": "code",
   "execution_count": null,
   "metadata": {
    "_uuid": "5234f0d7d29b7ea0adc022a9964590b0610032f3",
    "execution": {
     "iopub.execute_input": "2024-09-22T09:06:11.123051Z",
     "iopub.status.busy": "2024-09-22T09:06:11.122779Z",
     "iopub.status.idle": "2024-09-22T09:06:12.271254Z",
     "shell.execute_reply": "2024-09-22T09:06:12.270431Z",
     "shell.execute_reply.started": "2024-09-22T09:06:11.123Z"
    },
    "trusted": true
   },
   "outputs": [],
   "source": [
    "cells = np.array(data)\n",
    "labels = np.array(labels)\n",
    "\n",
    "np.save('Cells' , cells)\n",
    "np.save('Labels' , labels)"
   ]
  },
  {
   "cell_type": "code",
   "execution_count": null,
   "metadata": {
    "_uuid": "53020513151df530a51081741617687a8a789b30",
    "execution": {
     "iopub.execute_input": "2024-09-22T09:06:12.272786Z",
     "iopub.status.busy": "2024-09-22T09:06:12.272484Z",
     "iopub.status.idle": "2024-09-22T09:06:12.276877Z",
     "shell.execute_reply": "2024-09-22T09:06:12.275912Z",
     "shell.execute_reply.started": "2024-09-22T09:06:12.272721Z"
    },
    "trusted": true
   },
   "outputs": [],
   "source": [
    "print('Cells : {} | labels : {}'.format(cells.shape , labels.shape))"
   ]
  },
  {
   "cell_type": "code",
   "execution_count": null,
   "metadata": {
    "_uuid": "e4580e19f93d4427d7a7f88e739c1ef77d216847",
    "execution": {
     "iopub.execute_input": "2024-09-22T09:06:12.278253Z",
     "iopub.status.busy": "2024-09-22T09:06:12.277985Z",
     "iopub.status.idle": "2024-09-22T09:06:14.185108Z",
     "shell.execute_reply": "2024-09-22T09:06:14.184301Z",
     "shell.execute_reply.started": "2024-09-22T09:06:12.278204Z"
    },
    "trusted": true
   },
   "outputs": [],
   "source": [
    "plt.figure(1 , figsize = (15 , 9))\n",
    "n = 0 \n",
    "for i in range(49):\n",
    "    n += 1 \n",
    "    r = np.random.randint(0 , cells.shape[0] , 1)\n",
    "    plt.subplot(7 , 7 , n)\n",
    "    plt.subplots_adjust(hspace = 0.5 , wspace = 0.5)\n",
    "    plt.imshow(cells[r[0]])\n",
    "    plt.title('{} : {}'.format('Infected' if labels[r[0]] == 1 else 'Unifected' ,\n",
    "                               labels[r[0]]) )\n",
    "    plt.xticks([]) , plt.yticks([])\n",
    "    \n",
    "plt.show()"
   ]
  },
  {
   "cell_type": "code",
   "execution_count": null,
   "metadata": {
    "_uuid": "2c3d17aa73556bb631c0f51043da62e0e74f7f2f",
    "execution": {
     "iopub.execute_input": "2024-09-22T09:06:14.186579Z",
     "iopub.status.busy": "2024-09-22T09:06:14.186313Z",
     "iopub.status.idle": "2024-09-22T09:06:14.38364Z",
     "shell.execute_reply": "2024-09-22T09:06:14.382824Z",
     "shell.execute_reply.started": "2024-09-22T09:06:14.186519Z"
    },
    "trusted": true
   },
   "outputs": [],
   "source": [
    "plt.figure(1, figsize = (15 , 7))\n",
    "plt.subplot(1 , 2 , 1)\n",
    "plt.imshow(cells[0])\n",
    "plt.title('Infected Cell')\n",
    "plt.xticks([]) , plt.yticks([])\n",
    "\n",
    "plt.subplot(1 , 2 , 2)\n",
    "plt.imshow(cells[60000])\n",
    "plt.title('Uninfected Cell')\n",
    "plt.xticks([]) , plt.yticks([])\n",
    "\n",
    "plt.show()"
   ]
  },
  {
   "cell_type": "code",
   "execution_count": null,
   "metadata": {
    "_uuid": "2c607eb7ac48a824e67cb3d9c0029c04712b8087",
    "execution": {
     "iopub.execute_input": "2024-09-22T09:06:14.385368Z",
     "iopub.status.busy": "2024-09-22T09:06:14.384923Z",
     "iopub.status.idle": "2024-09-22T09:06:14.972394Z",
     "shell.execute_reply": "2024-09-22T09:06:14.971734Z",
     "shell.execute_reply.started": "2024-09-22T09:06:14.385316Z"
    },
    "trusted": true
   },
   "outputs": [],
   "source": [
    "n = np.arange(cells.shape[0])\n",
    "np.random.shuffle(n)\n",
    "cells = cells[n]\n",
    "labels = labels[n]"
   ]
  },
  {
   "cell_type": "code",
   "execution_count": null,
   "metadata": {
    "_uuid": "ffa4c1094d41db8ec76f69d3cd547bc7e355b193",
    "execution": {
     "iopub.execute_input": "2024-09-22T09:06:14.974225Z",
     "iopub.status.busy": "2024-09-22T09:06:14.973918Z",
     "iopub.status.idle": "2024-09-22T09:06:18.817641Z",
     "shell.execute_reply": "2024-09-22T09:06:18.81695Z",
     "shell.execute_reply.started": "2024-09-22T09:06:14.97417Z"
    },
    "trusted": true
   },
   "outputs": [],
   "source": [
    "cells = cells.astype(np.float32)\n",
    "labels = labels.astype(np.int32)\n",
    "cells = cells/255"
   ]
  },
  {
   "cell_type": "code",
   "execution_count": null,
   "metadata": {
    "_uuid": "251dcd279dbb17e3b53133843226e911727d5d1e",
    "execution": {
     "iopub.execute_input": "2024-09-22T09:08:43.996517Z",
     "iopub.status.busy": "2024-09-22T09:08:43.996102Z",
     "iopub.status.idle": "2024-09-22T09:08:46.761315Z",
     "shell.execute_reply": "2024-09-22T09:08:46.760636Z",
     "shell.execute_reply.started": "2024-09-22T09:08:43.996458Z"
    },
    "trusted": true
   },
   "outputs": [],
   "source": [
    "from sklearn.model_selection import train_test_split\n",
    "\n",
    "train_x , x , train_y , y = train_test_split(cells , labels , \n",
    "                                            test_size = 0.2 ,\n",
    "                                            random_state = 111)\n",
    "\n",
    "eval_x , test_x , eval_y , test_y = train_test_split(x , y , \n",
    "                                                    test_size = 0.5 , \n",
    "                                                    random_state = 111)"
   ]
  },
  {
   "cell_type": "code",
   "execution_count": null,
   "metadata": {
    "_uuid": "ca209c38627bb47450632dd707aab107f82de104",
    "execution": {
     "iopub.execute_input": "2024-09-22T09:08:55.620222Z",
     "iopub.status.busy": "2024-09-22T09:08:55.6199Z",
     "iopub.status.idle": "2024-09-22T09:08:55.909448Z",
     "shell.execute_reply": "2024-09-22T09:08:55.908454Z",
     "shell.execute_reply.started": "2024-09-22T09:08:55.620167Z"
    },
    "trusted": true
   },
   "outputs": [],
   "source": [
    "plt.figure(1 , figsize = (15 ,5))\n",
    "n = 0 \n",
    "for z , j in zip([train_y , eval_y , test_y] , ['train labels','eval labels','test labels']):\n",
    "    n += 1\n",
    "    plt.subplot(1 , 3  , n)\n",
    "    sns.countplot(x = z )\n",
    "    plt.title(j)\n",
    "plt.show()"
   ]
  },
  {
   "cell_type": "code",
   "execution_count": null,
   "metadata": {
    "_uuid": "b1406e372de9104f5ba7c9e5f318073c37670db2",
    "execution": {
     "iopub.execute_input": "2024-09-22T09:09:30.080656Z",
     "iopub.status.busy": "2024-09-22T09:09:30.080318Z",
     "iopub.status.idle": "2024-09-22T09:09:30.085454Z",
     "shell.execute_reply": "2024-09-22T09:09:30.084457Z",
     "shell.execute_reply.started": "2024-09-22T09:09:30.080594Z"
    },
    "trusted": true
   },
   "outputs": [],
   "source": [
    "print('train data shape {} ,eval data shape {} , test data shape {}'.format(train_x.shape,\n",
    "                                                                           eval_x.shape ,\n",
    "                                                                           test_x.shape))"
   ]
  },
  {
   "cell_type": "code",
   "execution_count": null,
   "metadata": {
    "_uuid": "176aba5ea61ebf8d1ef170401c07b22f19f620a6",
    "execution": {
     "iopub.execute_input": "2024-09-22T09:14:10.727284Z",
     "iopub.status.busy": "2024-09-22T09:14:10.726973Z",
     "iopub.status.idle": "2024-09-22T09:14:11.005287Z",
     "shell.execute_reply": "2024-09-22T09:14:11.004592Z",
     "shell.execute_reply.started": "2024-09-22T09:14:10.727228Z"
    },
    "trusted": true
   },
   "outputs": [],
   "source": [
    "import tensorflow as tf\n",
    "\n",
    "model = tf.keras.Sequential([\n",
    "    tf.keras.layers.Conv2D(50, (7, 7), activation='relu', input_shape=(50, 50, 3), padding='same'),\n",
    "    tf.keras.layers.Conv2D(90, (3, 3), activation='relu', padding='valid'),\n",
    "    tf.keras.layers.Conv2D(10, (5, 5), activation='relu', padding='same'),\n",
    "    tf.keras.layers.MaxPooling2D(pool_size=(2, 2), strides=2),\n",
    "    tf.keras.layers.Conv2D(5, (3, 3), activation='relu', padding='same'),\n",
    "    tf.keras.layers.MaxPooling2D(pool_size=(2, 2), strides=2, padding='same'),\n",
    "    tf.keras.layers.Flatten(),\n",
    "    tf.keras.layers.Dense(2000, activation='relu'),\n",
    "    tf.keras.layers.Dense(1000, activation='relu'),\n",
    "    tf.keras.layers.Dense(500, activation='relu'),\n",
    "    tf.keras.layers.Dense(2, activation='softmax')  # Change to 2 for binary classification\n",
    "])\n",
    "\n",
    "# Compile the model with the correct learning rate parameter\n",
    "model.compile(optimizer=tf.keras.optimizers.SGD(lr=0.001),  # Corrected here\n",
    "              loss='sparse_categorical_crossentropy',\n",
    "              metrics=['accuracy'])\n"
   ]
  },
  {
   "cell_type": "code",
   "execution_count": null,
   "metadata": {
    "_uuid": "fe31b7a2946fd74ebd6e6ffc18585fa74e6e47e6",
    "execution": {
     "iopub.execute_input": "2024-09-22T09:17:58.720098Z",
     "iopub.status.busy": "2024-09-22T09:17:58.71972Z",
     "iopub.status.idle": "2024-09-22T09:22:29.21789Z",
     "shell.execute_reply": "2024-09-22T09:22:29.217041Z",
     "shell.execute_reply.started": "2024-09-22T09:17:58.720018Z"
    },
    "trusted": true
   },
   "outputs": [],
   "source": [
    "checkpoint_path = \"/tmp/modelchkpt/cp-{epoch:04d}.ckpt\"\n",
    "checkpoint_dir = os.path.dirname(checkpoint_path)\n",
    "\n",
    "cp_callback = tf.keras.callbacks.ModelCheckpoint(filepath=checkpoint_path,\n",
    "                                                 save_weights_only=True,\n",
    "                                                 verbose=1)\n",
    "\n",
    "model.fit(train_x, train_y,\n",
    "          epochs=10,  \n",
    "          validation_data=(eval_x, eval_y),\n",
    "          callbacks=[cp_callback]) "
   ]
  },
  {
   "cell_type": "code",
   "execution_count": null,
   "metadata": {
    "_uuid": "76efc74c3f013168ea4fdadc8fc2e9f5f3b5f465",
    "execution": {
     "iopub.execute_input": "2024-09-22T09:28:32.730763Z",
     "iopub.status.busy": "2024-09-22T09:28:32.730434Z",
     "iopub.status.idle": "2024-09-22T09:28:33.93982Z",
     "shell.execute_reply": "2024-09-22T09:28:33.939075Z",
     "shell.execute_reply.started": "2024-09-22T09:28:32.730719Z"
    },
    "trusted": true
   },
   "outputs": [],
   "source": [
    "import numpy as np\n",
    "from sklearn.metrics import confusion_matrix, classification_report, accuracy_score\n",
    "\n",
    "predicted_probabilities = model.predict(test_x)\n",
    "\n",
    "predicted_labels = np.argmax(predicted_probabilities, axis=1)\n",
    "\n",
    "cm = confusion_matrix(test_y, predicted_labels)\n",
    "\n",
    "report = classification_report(test_y, predicted_labels)\n",
    "\n",
    "accuracy = accuracy_score(test_y, predicted_labels)\n",
    "\n",
    "print(\"Confusion Matrix:\\n{}\\n\".format(cm))\n",
    "print(\"Classification Report:\\n{}\\n\".format(report))\n",
    "print(\"Accuracy Score: {:.2f}%\".format(accuracy * 100))\n"
   ]
  },
  {
   "cell_type": "code",
   "execution_count": null,
   "metadata": {
    "_uuid": "4a0942e25e79957c5932013fa55d51f7282dd87b",
    "execution": {
     "iopub.execute_input": "2024-09-22T09:29:33.954618Z",
     "iopub.status.busy": "2024-09-22T09:29:33.95429Z",
     "iopub.status.idle": "2024-09-22T09:29:35.823811Z",
     "shell.execute_reply": "2024-09-22T09:29:35.823098Z",
     "shell.execute_reply.started": "2024-09-22T09:29:33.954568Z"
    },
    "trusted": true
   },
   "outputs": [],
   "source": [
    "import matplotlib.pyplot as plt\n",
    "import numpy as np\n",
    "\n",
    "# Plot setup\n",
    "plt.figure(1, figsize=(15, 9))\n",
    "n = 0 \n",
    "\n",
    "# Loop to plot 49 random images from the test set\n",
    "for i in range(49):\n",
    "    n += 1\n",
    "    # Randomly select an index from the test set\n",
    "    r = np.random.randint(0, test_x.shape[0], 1)\n",
    "    \n",
    "    # Create a 7x7 grid of subplots\n",
    "    plt.subplot(7, 7, n)\n",
    "    plt.subplots_adjust(hspace=0.5, wspace=0.5)\n",
    "    \n",
    "    # Display the selected image\n",
    "    plt.imshow(test_x[r[0]])\n",
    "    \n",
    "    # Set the title to show the true label and predicted label\n",
    "    plt.title('True: {} | Pred: {}'.format(test_y[r[0]], predicted_labels[r[0]]))\n",
    "    \n",
    "    # Remove the x and y ticks for clarity\n",
    "    plt.xticks([]), plt.yticks([])\n",
    "\n",
    "# Show the plot\n",
    "plt.show()\n"
   ]
  },
  {
   "cell_type": "code",
   "execution_count": null,
   "metadata": {},
   "outputs": [],
   "source": []
  }
 ],
 "metadata": {
  "kaggle": {
   "accelerator": "gpu",
   "dataSources": [
    {
     "datasetId": 87153,
     "sourceId": 200743,
     "sourceType": "datasetVersion"
    }
   ],
   "dockerImageVersionId": 20479,
   "isGpuEnabled": true,
   "isInternetEnabled": false,
   "language": "python",
   "sourceType": "notebook"
  },
  "kernelspec": {
   "display_name": "Python 3",
   "language": "python",
   "name": "python3"
  },
  "language_info": {
   "codemirror_mode": {
    "name": "ipython",
    "version": 3
   },
   "file_extension": ".py",
   "mimetype": "text/x-python",
   "name": "python",
   "nbconvert_exporter": "python",
   "pygments_lexer": "ipython3",
   "version": "3.6.6"
  }
 },
 "nbformat": 4,
 "nbformat_minor": 4
}
